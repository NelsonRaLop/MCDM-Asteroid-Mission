{
 "cells": [
  {
   "cell_type": "markdown",
   "metadata": {},
   "source": [
    "# Main Script: MCDM Asteroid Selection"
   ]
  },
  {
   "cell_type": "markdown",
   "metadata": {},
   "source": [
    "## Import Packages"
   ]
  },
  {
   "cell_type": "code",
   "execution_count": 1,
   "metadata": {},
   "outputs": [],
   "source": [
    "import pandas as pd\n",
    "import asteroid_db\n",
    "import asteroid_orbital\n",
    "import asteroid_products\n",
    "import asteroid_decision"
   ]
  },
  {
   "cell_type": "markdown",
   "metadata": {},
   "source": [
    "## User requirements\n",
    "\n",
    "Here the user must select:\n",
    "\n",
    "- The H range of the asteroids analyzed (considering a range of albedos between 0.06 characteristic for C-type asteroids and 0.16 for S-type asteroids) - For asteroids 4-9m H[29-30] is recommended, for asteroids 100-350m H[21-22.5]. See https://nssdc.gsfc.nasa.gov/planetary/text/asteroids.txt\n",
    "\n",
    "- Range of dates of natural approach (see next section) of the asteroid analyzed to the Earth and a distance reference for parabolic limit computation (see next section) , to enable its capture.\n",
    "\n",
    "- Reference thresholds of orbit similaty metric (see next section) and distance to a possible back up asteroid\n",
    "\n",
    "- Additional filter in case there are many candidates only consider those that have any of this info available: taxonomy or presence of satellites or spin period."
   ]
  },
  {
   "cell_type": "code",
   "execution_count": 2,
   "metadata": {},
   "outputs": [],
   "source": [
    "H_min=29 #Min absolute magnitude of asteroid analysed (29 for small / 21 medium)\n",
    "H_max=30 #Max absolute magnitude of asteroid analysed (30 for small / 22.5 medium)\n",
    "date_app_min='2030-01-01' #Min close-approach date\n",
    "date_app_max='2035-01-01' #Max close-approach date\n",
    "dist_app=0.2 #Close approach definition threshold [AU]\n",
    "rel_dist_ast_thres=0.075 #Theshold of relative distance between potential asteroid distance / length ot the Earth Orbit\n",
    "orbit_similarity_thres=0.2 #For back-up asteroid target similarity metric threshold [AU]"
   ]
  },
  {
   "cell_type": "markdown",
   "metadata": {},
   "source": [
    "## Asteroid databases loading\n",
    "\n",
    "Data extraction through APIS:\n",
    "\n",
    "- Asteroid data: https://ssd.jpl.nasa.gov/tools/sbdb_query.html\n",
    "\n",
    "- Earth approach data of the period analysed https://cneos.jpl.nasa.gov/ca/\n",
    "\n",
    "- NHATS data: https://cneos.jpl.nasa.gov/nhats/\n",
    "\n",
    "- Geometric model data from DAMIT: https://astro.troja.mff.cuni.cz/projects/damit/\n",
    "\n",
    "Additional information is available in the functions and modules."
   ]
  },
  {
   "cell_type": "code",
   "execution_count": 3,
   "metadata": {},
   "outputs": [],
   "source": [
    "asteroid, asteroid_app, asteroid_NHATS, asteroid_geometry, input_file = \\\n",
    "                             asteroid_db.asteroid_load(H_min,H_max,date_app_min,date_app_max,dist_app)\n",
    "asteroid_removed= pd.DataFrame(columns=asteroid.columns) #Initialization; no candidates excluded atm"
   ]
  },
  {
   "cell_type": "markdown",
   "metadata": {},
   "source": [
    "## Compute orbital parameters and solutions\n",
    "\n",
    "Main loop:\n",
    "- Iterate through all asteroids that meet the parameters set by the user eliminating from the list those that do not have a natural approach to Earth in the period of interest and additional filters (if enabled). Considering only Earth close approachers asteroid is described in https://ieeexplore.ieee.org/document/6836358\n",
    "\n",
    "- Estimate the delta_v of the capture as described at https://www.researchgate.net/publication236163825_Near-Earth_asteroid_resource_accessibility_and_future_capture_mission_opportunities\n",
    "\n",
    "- Compute the synodic period\n",
    "\n",
    "- Include the computed data\n",
    "\n",
    "- Taking into account orbit similaty and distance thresholds, compute the number of potential backup asteroids (within the natural close approachers list) in case it becomes necessary to redirect the mission once in flight. Additional info about similarity metric computations can be found in https://www.sciencedirect.com/science/article/pii/S0273117724004307\n",
    "\n",
    "Additional information is available in the functions and modules."
   ]
  },
  {
   "cell_type": "code",
   "execution_count": 4,
   "metadata": {},
   "outputs": [
    {
     "ename": "NameError",
     "evalue": "name 'dist_ast_thres' is not defined",
     "output_type": "error",
     "traceback": [
      "\u001b[1;31m---------------------------------------------------------------------------\u001b[0m",
      "\u001b[1;31mNameError\u001b[0m                                 Traceback (most recent call last)",
      "Cell \u001b[1;32mIn[4], line 23\u001b[0m\n\u001b[0;32m     18\u001b[0m asteroid\u001b[38;5;241m.\u001b[39mreset_index(drop\u001b[38;5;241m=\u001b[39m\u001b[38;5;28;01mTrue\u001b[39;00m, inplace\u001b[38;5;241m=\u001b[39m\u001b[38;5;28;01mTrue\u001b[39;00m) \u001b[38;5;66;03m# Remove empty rows\u001b[39;00m\n\u001b[0;32m     19\u001b[0m \u001b[38;5;28;01mfor\u001b[39;00m n_ast \u001b[38;5;129;01min\u001b[39;00m \u001b[38;5;28mrange\u001b[39m(\u001b[38;5;28mlen\u001b[39m(asteroid)): \n\u001b[0;32m     20\u001b[0m \n\u001b[0;32m     21\u001b[0m     \u001b[38;5;66;03m# Compute number of posible backup targets within 'approachers' list\u001b[39;00m\n\u001b[0;32m     22\u001b[0m     \u001b[38;5;66;03m#n_backup=asteroid_orbital.asteroid_similarity(n_ast,asteroid,asteroid,orbit_similarity_thres,rel_dist_ast_thres)\u001b[39;00m\n\u001b[1;32m---> 23\u001b[0m     n_backup,familiar,delta_H\u001b[38;5;241m=\u001b[39masteroid_orbital\u001b[38;5;241m.\u001b[39masteroid_similarity(n_ast,asteroid,asteroid,orbit_similarity_thres,\u001b[43mdist_ast_thres\u001b[49m)\n\u001b[0;32m     25\u001b[0m     \u001b[38;5;66;03m# Include results in the available info\u001b[39;00m\n\u001b[0;32m     26\u001b[0m     \u001b[38;5;66;03m#asteroid.loc[n_ast, 'n_backup'] = [n_backup]\u001b[39;00m\n\u001b[0;32m     27\u001b[0m     asteroid\u001b[38;5;241m.\u001b[39mloc[n_ast, [\u001b[38;5;124m'\u001b[39m\u001b[38;5;124mn_backup\u001b[39m\u001b[38;5;124m'\u001b[39m,\u001b[38;5;124m'\u001b[39m\u001b[38;5;124mfamiliar\u001b[39m\u001b[38;5;124m'\u001b[39m,\u001b[38;5;124m'\u001b[39m\u001b[38;5;124mdelta_H\u001b[39m\u001b[38;5;124m'\u001b[39m]] \u001b[38;5;241m=\u001b[39m [n_backup,familiar,delta_H]\n",
      "\u001b[1;31mNameError\u001b[0m: name 'dist_ast_thres' is not defined"
     ]
    }
   ],
   "source": [
    "for n_ast in range(len(asteroid)-1,-1,-1): #Iterate from the last element to enable delete asteroid\n",
    "\n",
    "    # Remove NO close approachers and check if additional info is available\n",
    "    cont,approaches, approach_date, is_NHATS,is_geometry, asteroid_removed=asteroid_db.asteroid_filtering(n_ast,asteroid, asteroid_removed,asteroid_app,asteroid_NHATS, asteroid_geometry)\n",
    "    if cont==0: continue #Remove asteroid as candidate and continue\n",
    "    \n",
    "    # Compute accesibility via delta_v [m/s]]\n",
    "    delta_v_tot=asteroid_orbital.asteroid_accessibility(n_ast, asteroid)\n",
    "    \n",
    "    # Compute synodic period [years]\n",
    "    period_sin=asteroid_orbital.asteroid_period(n_ast,asteroid)\n",
    "\n",
    "    # Update info\n",
    "    asteroid.loc[n_ast, ['delta_v_tot', 'period_sin', 'approaches','date_approach', 'is_NHATS', 'is_geometry']] = [\n",
    "    delta_v_tot, period_sin, approaches,approach_date, is_NHATS, is_geometry]\n",
    "\n",
    "    \n",
    "asteroid.reset_index(drop=True, inplace=True) # Remove empty rows\n",
    "for n_ast in range(len(asteroid)): \n",
    "\n",
    "    # Compute number of posible backup targets within 'approachers' list\n",
    "    #n_backup=asteroid_orbital.asteroid_similarity(n_ast,asteroid,asteroid,orbit_similarity_thres,rel_dist_ast_thres)\n",
    "    n_backup,familiar,delta_H=asteroid_orbital.asteroid_similarity(n_ast,asteroid,asteroid,orbit_similarity_thres,rel_dist_ast_thres)\n",
    "\n",
    "    # Include results in the available info\n",
    "    #asteroid.loc[n_ast, 'n_backup'] = [n_backup]\n",
    "    asteroid.loc[n_ast, ['n_backup','familiar','delta_H']] = [n_backup,familiar,delta_H]\n"
   ]
  },
  {
   "cell_type": "markdown",
   "metadata": {},
   "source": [
    "## Generate solution csv, simplified table and plots\n",
    "\n",
    "A simplified table including: ID, accesibility estimation, popential backup asteroids, orbit uncertainty (condition code), synodic period, spin rate and additional information (when available) is shown and saved in txt. This table could potentionally be used as analysis abstract to decision makers.\n",
    "\n",
    "Accesibility plots are shown and saved\n",
    "\n",
    "Additional information is available in the functions and modules."
   ]
  },
  {
   "cell_type": "code",
   "execution_count": null,
   "metadata": {},
   "outputs": [],
   "source": [
    "asteroid_products.asteroid_out(H_min,H_max,date_app_min,date_app_max,asteroid,asteroid_removed)     "
   ]
  },
  {
   "cell_type": "markdown",
   "metadata": {},
   "source": [
    "## MCDM Problem: \n",
    "\n",
    "------- WIP -------\n",
    "\n",
    "Multicriteria Decision Making: Decision table generation, weight calculation, ranking. \n",
    "\n",
    "Additional information available in the functions and modules."
   ]
  },
  {
   "cell_type": "code",
   "execution_count": null,
   "metadata": {},
   "outputs": [],
   "source": [
    "# WIP\n",
    "decision_table=[[float(asteroid.loc[n_ast,'delta_v_tot']), float(asteroid.loc[n_ast,'condition_code']), float(asteroid.loc[n_ast,'period_sin'])] for n_ast in range(len(asteroid))]\n",
    "criterion_type= ['min','min','min'] #Select the kind of criteria for all criteria\n",
    "\n",
    "\n",
    "weights=asteroid_decision.weights_merec(decision_table,criterion_type) #### Nelson remember, be careful when any assessment = 0 !!!!!!\n",
    "\n",
    "# print(decision_table) Example\n",
    "print(weights)"
   ]
  }
 ],
 "metadata": {
  "kernelspec": {
   "display_name": ".venv",
   "language": "python",
   "name": "python3"
  },
  "language_info": {
   "codemirror_mode": {
    "name": "ipython",
    "version": 3
   },
   "file_extension": ".py",
   "mimetype": "text/x-python",
   "name": "python",
   "nbconvert_exporter": "python",
   "pygments_lexer": "ipython3",
   "version": "3.13.1"
  }
 },
 "nbformat": 4,
 "nbformat_minor": 2
}
